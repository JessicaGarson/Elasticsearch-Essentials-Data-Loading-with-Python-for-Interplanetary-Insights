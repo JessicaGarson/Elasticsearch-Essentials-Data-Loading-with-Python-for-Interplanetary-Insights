{
 "cells": [
  {
   "cell_type": "code",
   "execution_count": 1,
   "id": "0edd90e6-47b6-4143-a016-9652d626f60c",
   "metadata": {},
   "outputs": [],
   "source": [
    "import requests\n",
    "from getpass import getpass\n",
    "import pandas as pd\n",
    "from datetime import datetime, timedelta\n",
    "from elasticsearch import Elasticsearch, helpers"
   ]
  },
  {
   "cell_type": "code",
   "execution_count": 2,
   "id": "64f2e433-94b5-4a95-ba5f-27ec6491a565",
   "metadata": {},
   "outputs": [],
   "source": [
    "def connect_to_nasa():\n",
    "    url = \"https://api.nasa.gov/neo/rest/v1/feed\"\n",
    "    nasa_api_key = getpass(\"NASA API Key: \")\n",
    "    today = datetime.now()\n",
    "    params = {\n",
    "        \"api_key\": nasa_api_key,\n",
    "        \"start_date\": today - timedelta(days=7),\n",
    "        \"end_date\": datetime.now(),\n",
    "    }\n",
    "    return requests.get(url, params).json()"
   ]
  },
  {
   "cell_type": "code",
   "execution_count": 3,
   "id": "f3430e45-8070-4897-9d08-0fdc1c54cb9c",
   "metadata": {},
   "outputs": [
    {
     "name": "stdin",
     "output_type": "stream",
     "text": [
      "NASA API Key:  ········\n"
     ]
    }
   ],
   "source": [
    "response = connect_to_nasa()"
   ]
  },
  {
   "cell_type": "code",
   "execution_count": 4,
   "id": "72360657-4377-477c-96a7-cba188dc3d2d",
   "metadata": {},
   "outputs": [],
   "source": [
    "def create_df(response):\n",
    "    all_objects = []\n",
    "    for date, objects in response[\"near_earth_objects\"].items():\n",
    "        for obj in objects:\n",
    "            obj[\"close_approach_date\"] = date\n",
    "            all_objects.append(obj)\n",
    "    df = pd.json_normalize(all_objects)\n",
    "    return df.drop(\"close_approach_data\", axis=1)"
   ]
  },
  {
   "cell_type": "code",
   "execution_count": 5,
   "id": "6f985435-e66a-4a3f-b8c8-0bfb527f07a4",
   "metadata": {},
   "outputs": [
    {
     "data": {
      "text/html": [
       "<div>\n",
       "<style scoped>\n",
       "    .dataframe tbody tr th:only-of-type {\n",
       "        vertical-align: middle;\n",
       "    }\n",
       "\n",
       "    .dataframe tbody tr th {\n",
       "        vertical-align: top;\n",
       "    }\n",
       "\n",
       "    .dataframe thead th {\n",
       "        text-align: right;\n",
       "    }\n",
       "</style>\n",
       "<table border=\"1\" class=\"dataframe\">\n",
       "  <thead>\n",
       "    <tr style=\"text-align: right;\">\n",
       "      <th></th>\n",
       "      <th>id</th>\n",
       "      <th>neo_reference_id</th>\n",
       "      <th>name</th>\n",
       "      <th>nasa_jpl_url</th>\n",
       "      <th>absolute_magnitude_h</th>\n",
       "      <th>is_potentially_hazardous_asteroid</th>\n",
       "      <th>is_sentry_object</th>\n",
       "      <th>close_approach_date</th>\n",
       "      <th>links.self</th>\n",
       "      <th>estimated_diameter.kilometers.estimated_diameter_min</th>\n",
       "      <th>estimated_diameter.kilometers.estimated_diameter_max</th>\n",
       "      <th>estimated_diameter.meters.estimated_diameter_min</th>\n",
       "      <th>estimated_diameter.meters.estimated_diameter_max</th>\n",
       "      <th>estimated_diameter.miles.estimated_diameter_min</th>\n",
       "      <th>estimated_diameter.miles.estimated_diameter_max</th>\n",
       "      <th>estimated_diameter.feet.estimated_diameter_min</th>\n",
       "      <th>estimated_diameter.feet.estimated_diameter_max</th>\n",
       "      <th>sentry_data</th>\n",
       "    </tr>\n",
       "  </thead>\n",
       "  <tbody>\n",
       "    <tr>\n",
       "      <th>0</th>\n",
       "      <td>2016657</td>\n",
       "      <td>2016657</td>\n",
       "      <td>16657 (1993 UB)</td>\n",
       "      <td>https://ssd.jpl.nasa.gov/tools/sbdb_lookup.htm...</td>\n",
       "      <td>16.55</td>\n",
       "      <td>False</td>\n",
       "      <td>False</td>\n",
       "      <td>2024-10-27</td>\n",
       "      <td>http://api.nasa.gov/neo/rest/v1/neo/2016657?ap...</td>\n",
       "      <td>1.301832</td>\n",
       "      <td>2.910985</td>\n",
       "      <td>1301.832102</td>\n",
       "      <td>2910.985075</td>\n",
       "      <td>0.808921</td>\n",
       "      <td>1.808802</td>\n",
       "      <td>4271.102833</td>\n",
       "      <td>9550.476274</td>\n",
       "      <td>NaN</td>\n",
       "    </tr>\n",
       "    <tr>\n",
       "      <th>1</th>\n",
       "      <td>2189700</td>\n",
       "      <td>2189700</td>\n",
       "      <td>189700 (2001 TA45)</td>\n",
       "      <td>https://ssd.jpl.nasa.gov/tools/sbdb_lookup.htm...</td>\n",
       "      <td>19.18</td>\n",
       "      <td>False</td>\n",
       "      <td>False</td>\n",
       "      <td>2024-10-27</td>\n",
       "      <td>http://api.nasa.gov/neo/rest/v1/neo/2189700?ap...</td>\n",
       "      <td>0.387753</td>\n",
       "      <td>0.867042</td>\n",
       "      <td>387.752830</td>\n",
       "      <td>867.041687</td>\n",
       "      <td>0.240938</td>\n",
       "      <td>0.538755</td>\n",
       "      <td>1272.154996</td>\n",
       "      <td>2844.625049</td>\n",
       "      <td>NaN</td>\n",
       "    </tr>\n",
       "    <tr>\n",
       "      <th>2</th>\n",
       "      <td>3740809</td>\n",
       "      <td>3740809</td>\n",
       "      <td>(2016 BF1)</td>\n",
       "      <td>https://ssd.jpl.nasa.gov/tools/sbdb_lookup.htm...</td>\n",
       "      <td>25.40</td>\n",
       "      <td>False</td>\n",
       "      <td>False</td>\n",
       "      <td>2024-10-27</td>\n",
       "      <td>http://api.nasa.gov/neo/rest/v1/neo/3740809?ap...</td>\n",
       "      <td>0.022108</td>\n",
       "      <td>0.049436</td>\n",
       "      <td>22.108281</td>\n",
       "      <td>49.435619</td>\n",
       "      <td>0.013737</td>\n",
       "      <td>0.030718</td>\n",
       "      <td>72.533733</td>\n",
       "      <td>162.190357</td>\n",
       "      <td>NaN</td>\n",
       "    </tr>\n",
       "    <tr>\n",
       "      <th>3</th>\n",
       "      <td>3774014</td>\n",
       "      <td>3774014</td>\n",
       "      <td>(2017 HG1)</td>\n",
       "      <td>https://ssd.jpl.nasa.gov/tools/sbdb_lookup.htm...</td>\n",
       "      <td>27.50</td>\n",
       "      <td>False</td>\n",
       "      <td>False</td>\n",
       "      <td>2024-10-27</td>\n",
       "      <td>http://api.nasa.gov/neo/rest/v1/neo/3774014?ap...</td>\n",
       "      <td>0.008405</td>\n",
       "      <td>0.018795</td>\n",
       "      <td>8.405334</td>\n",
       "      <td>18.794898</td>\n",
       "      <td>0.005223</td>\n",
       "      <td>0.011679</td>\n",
       "      <td>27.576556</td>\n",
       "      <td>61.663054</td>\n",
       "      <td>NaN</td>\n",
       "    </tr>\n",
       "    <tr>\n",
       "      <th>4</th>\n",
       "      <td>3805271</td>\n",
       "      <td>3805271</td>\n",
       "      <td>(2018 HA1)</td>\n",
       "      <td>https://ssd.jpl.nasa.gov/tools/sbdb_lookup.htm...</td>\n",
       "      <td>22.10</td>\n",
       "      <td>False</td>\n",
       "      <td>False</td>\n",
       "      <td>2024-10-27</td>\n",
       "      <td>http://api.nasa.gov/neo/rest/v1/neo/3805271?ap...</td>\n",
       "      <td>0.101054</td>\n",
       "      <td>0.225964</td>\n",
       "      <td>101.054342</td>\n",
       "      <td>225.964377</td>\n",
       "      <td>0.062792</td>\n",
       "      <td>0.140408</td>\n",
       "      <td>331.543126</td>\n",
       "      <td>741.352967</td>\n",
       "      <td>NaN</td>\n",
       "    </tr>\n",
       "  </tbody>\n",
       "</table>\n",
       "</div>"
      ],
      "text/plain": [
       "        id neo_reference_id                name  \\\n",
       "0  2016657          2016657     16657 (1993 UB)   \n",
       "1  2189700          2189700  189700 (2001 TA45)   \n",
       "2  3740809          3740809          (2016 BF1)   \n",
       "3  3774014          3774014          (2017 HG1)   \n",
       "4  3805271          3805271          (2018 HA1)   \n",
       "\n",
       "                                        nasa_jpl_url  absolute_magnitude_h  \\\n",
       "0  https://ssd.jpl.nasa.gov/tools/sbdb_lookup.htm...                 16.55   \n",
       "1  https://ssd.jpl.nasa.gov/tools/sbdb_lookup.htm...                 19.18   \n",
       "2  https://ssd.jpl.nasa.gov/tools/sbdb_lookup.htm...                 25.40   \n",
       "3  https://ssd.jpl.nasa.gov/tools/sbdb_lookup.htm...                 27.50   \n",
       "4  https://ssd.jpl.nasa.gov/tools/sbdb_lookup.htm...                 22.10   \n",
       "\n",
       "   is_potentially_hazardous_asteroid  is_sentry_object close_approach_date  \\\n",
       "0                              False             False          2024-10-27   \n",
       "1                              False             False          2024-10-27   \n",
       "2                              False             False          2024-10-27   \n",
       "3                              False             False          2024-10-27   \n",
       "4                              False             False          2024-10-27   \n",
       "\n",
       "                                          links.self  \\\n",
       "0  http://api.nasa.gov/neo/rest/v1/neo/2016657?ap...   \n",
       "1  http://api.nasa.gov/neo/rest/v1/neo/2189700?ap...   \n",
       "2  http://api.nasa.gov/neo/rest/v1/neo/3740809?ap...   \n",
       "3  http://api.nasa.gov/neo/rest/v1/neo/3774014?ap...   \n",
       "4  http://api.nasa.gov/neo/rest/v1/neo/3805271?ap...   \n",
       "\n",
       "   estimated_diameter.kilometers.estimated_diameter_min  \\\n",
       "0                                           1.301832      \n",
       "1                                           0.387753      \n",
       "2                                           0.022108      \n",
       "3                                           0.008405      \n",
       "4                                           0.101054      \n",
       "\n",
       "   estimated_diameter.kilometers.estimated_diameter_max  \\\n",
       "0                                           2.910985      \n",
       "1                                           0.867042      \n",
       "2                                           0.049436      \n",
       "3                                           0.018795      \n",
       "4                                           0.225964      \n",
       "\n",
       "   estimated_diameter.meters.estimated_diameter_min  \\\n",
       "0                                       1301.832102   \n",
       "1                                        387.752830   \n",
       "2                                         22.108281   \n",
       "3                                          8.405334   \n",
       "4                                        101.054342   \n",
       "\n",
       "   estimated_diameter.meters.estimated_diameter_max  \\\n",
       "0                                       2910.985075   \n",
       "1                                        867.041687   \n",
       "2                                         49.435619   \n",
       "3                                         18.794898   \n",
       "4                                        225.964377   \n",
       "\n",
       "   estimated_diameter.miles.estimated_diameter_min  \\\n",
       "0                                         0.808921   \n",
       "1                                         0.240938   \n",
       "2                                         0.013737   \n",
       "3                                         0.005223   \n",
       "4                                         0.062792   \n",
       "\n",
       "   estimated_diameter.miles.estimated_diameter_max  \\\n",
       "0                                         1.808802   \n",
       "1                                         0.538755   \n",
       "2                                         0.030718   \n",
       "3                                         0.011679   \n",
       "4                                         0.140408   \n",
       "\n",
       "   estimated_diameter.feet.estimated_diameter_min  \\\n",
       "0                                     4271.102833   \n",
       "1                                     1272.154996   \n",
       "2                                       72.533733   \n",
       "3                                       27.576556   \n",
       "4                                      331.543126   \n",
       "\n",
       "   estimated_diameter.feet.estimated_diameter_max sentry_data  \n",
       "0                                     9550.476274         NaN  \n",
       "1                                     2844.625049         NaN  \n",
       "2                                      162.190357         NaN  \n",
       "3                                       61.663054         NaN  \n",
       "4                                      741.352967         NaN  "
      ]
     },
     "execution_count": 5,
     "metadata": {},
     "output_type": "execute_result"
    }
   ],
   "source": [
    "df = create_df(response)\n",
    "df.head()"
   ]
  },
  {
   "cell_type": "code",
   "execution_count": 6,
   "id": "0ccebdf2-edab-4af8-a009-827f193bcd0d",
   "metadata": {},
   "outputs": [],
   "source": [
    "df = df.drop(['links.self', 'sentry_data'], axis=1)"
   ]
  },
  {
   "cell_type": "code",
   "execution_count": 7,
   "id": "d065697d-87bf-45b5-9538-ea7bfa7ce747",
   "metadata": {},
   "outputs": [
    {
     "data": {
      "text/plain": [
       "False"
      ]
     },
     "execution_count": 7,
     "metadata": {},
     "output_type": "execute_result"
    }
   ],
   "source": [
    "df.isnull().values.any()"
   ]
  },
  {
   "cell_type": "code",
   "execution_count": 8,
   "id": "70a64c39-791d-4199-9cc7-ec829bf1af7e",
   "metadata": {},
   "outputs": [],
   "source": [
    "def connect_to_elastic():\n",
    "    elasticsearch_endpoint = getpass(\"Host Address: \")\n",
    "    elasticsearch_api_key = getpass(\"Elastic API Key: \")\n",
    "    return Elasticsearch(hosts=elasticsearch_endpoint, api_key=elasticsearch_api_key)"
   ]
  },
  {
   "cell_type": "code",
   "execution_count": 9,
   "id": "f3ccc1c1-1503-4f74-8946-5ed629bac93f",
   "metadata": {},
   "outputs": [
    {
     "name": "stdin",
     "output_type": "stream",
     "text": [
      "Host Address:  ········\n",
      "Elastic API Key:  ········\n"
     ]
    }
   ],
   "source": [
    "es = connect_to_elastic()"
   ]
  },
  {
   "cell_type": "code",
   "execution_count": 10,
   "id": "19360ea3-dc73-47a9-ba9b-e5cbb75f0bb1",
   "metadata": {},
   "outputs": [
    {
     "data": {
      "text/plain": [
       "ObjectApiResponse({'acknowledged': True, 'shards_acknowledged': True, 'index': 'ato'})"
      ]
     },
     "execution_count": 10,
     "metadata": {},
     "output_type": "execute_result"
    }
   ],
   "source": [
    "index_name = \"ato\"\n",
    "es.indices.create(index=index_name)"
   ]
  },
  {
   "cell_type": "code",
   "execution_count": 11,
   "id": "f937a22a-3369-42c7-9250-443b11a5e915",
   "metadata": {},
   "outputs": [],
   "source": [
    "def doc_generator(df, index_name):\n",
    "    for index, document in df.iterrows():\n",
    "        yield {\n",
    "            \"_index\": index_name,\n",
    "            \"_id\": f\"{document['id']}\",\n",
    "            \"_source\": document.to_dict(),\n",
    "        }"
   ]
  },
  {
   "cell_type": "code",
   "execution_count": 12,
   "id": "3739db51-b7b6-46ce-a475-63f5f8d87965",
   "metadata": {},
   "outputs": [
    {
     "data": {
      "text/plain": [
       "(166, [])"
      ]
     },
     "execution_count": 12,
     "metadata": {},
     "output_type": "execute_result"
    }
   ],
   "source": [
    "helpers.bulk(es, doc_generator(df, index_name))"
   ]
  }
 ],
 "metadata": {
  "kernelspec": {
   "display_name": "Python 3 (ipykernel)",
   "language": "python",
   "name": "python3"
  },
  "language_info": {
   "codemirror_mode": {
    "name": "ipython",
    "version": 3
   },
   "file_extension": ".py",
   "mimetype": "text/x-python",
   "name": "python",
   "nbconvert_exporter": "python",
   "pygments_lexer": "ipython3",
   "version": "3.12.1"
  }
 },
 "nbformat": 4,
 "nbformat_minor": 5
}
