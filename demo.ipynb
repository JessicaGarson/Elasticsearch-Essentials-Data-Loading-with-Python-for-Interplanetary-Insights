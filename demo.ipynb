{
 "cells": [
  {
   "cell_type": "code",
   "execution_count": 1,
   "id": "0edd90e6-47b6-4143-a016-9652d626f60c",
   "metadata": {},
   "outputs": [],
   "source": [
    "import requests\n",
    "from getpass import getpass\n",
    "import pandas as pd\n",
    "from datetime import datetime, timedelta\n",
    "from elasticsearch import Elasticsearch, helpers"
   ]
  },
  {
   "cell_type": "code",
   "execution_count": 2,
   "id": "64f2e433-94b5-4a95-ba5f-27ec6491a565",
   "metadata": {},
   "outputs": [],
   "source": [
    "def connect_to_nasa():\n",
    "    url = \"https://api.nasa.gov/neo/rest/v1/feed\"\n",
    "    nasa_api_key = getpass(\"NASA API Key: \")\n",
    "    today = datetime.now()\n",
    "    params = {\n",
    "        \"api_key\": nasa_api_key,\n",
    "        \"start_date\": today - timedelta(days=7),\n",
    "        \"end_date\": datetime.now(),\n",
    "    }\n",
    "    return requests.get(url, params).json()"
   ]
  },
  {
   "cell_type": "code",
   "execution_count": 3,
   "id": "f3430e45-8070-4897-9d08-0fdc1c54cb9c",
   "metadata": {},
   "outputs": [
    {
     "name": "stdin",
     "output_type": "stream",
     "text": [
      "NASA API Key:  ········\n"
     ]
    }
   ],
   "source": [
    "response = connect_to_nasa()"
   ]
  },
  {
   "cell_type": "code",
   "execution_count": 4,
   "id": "72360657-4377-477c-96a7-cba188dc3d2d",
   "metadata": {},
   "outputs": [],
   "source": [
    "def create_df(response):\n",
    "    all_objects = []\n",
    "    for date, objects in response[\"near_earth_objects\"].items():\n",
    "        for obj in objects:\n",
    "            obj[\"close_approach_date\"] = date\n",
    "            all_objects.append(obj)\n",
    "    df = pd.json_normalize(all_objects)\n",
    "    return df.drop(\"close_approach_data\", axis=1)"
   ]
  },
  {
   "cell_type": "code",
   "execution_count": 5,
   "id": "6f985435-e66a-4a3f-b8c8-0bfb527f07a4",
   "metadata": {},
   "outputs": [
    {
     "data": {
      "text/html": [
       "<div>\n",
       "<style scoped>\n",
       "    .dataframe tbody tr th:only-of-type {\n",
       "        vertical-align: middle;\n",
       "    }\n",
       "\n",
       "    .dataframe tbody tr th {\n",
       "        vertical-align: top;\n",
       "    }\n",
       "\n",
       "    .dataframe thead th {\n",
       "        text-align: right;\n",
       "    }\n",
       "</style>\n",
       "<table border=\"1\" class=\"dataframe\">\n",
       "  <thead>\n",
       "    <tr style=\"text-align: right;\">\n",
       "      <th></th>\n",
       "      <th>id</th>\n",
       "      <th>neo_reference_id</th>\n",
       "      <th>name</th>\n",
       "      <th>nasa_jpl_url</th>\n",
       "      <th>absolute_magnitude_h</th>\n",
       "      <th>is_potentially_hazardous_asteroid</th>\n",
       "      <th>is_sentry_object</th>\n",
       "      <th>close_approach_date</th>\n",
       "      <th>links.self</th>\n",
       "      <th>estimated_diameter.kilometers.estimated_diameter_min</th>\n",
       "      <th>estimated_diameter.kilometers.estimated_diameter_max</th>\n",
       "      <th>estimated_diameter.meters.estimated_diameter_min</th>\n",
       "      <th>estimated_diameter.meters.estimated_diameter_max</th>\n",
       "      <th>estimated_diameter.miles.estimated_diameter_min</th>\n",
       "      <th>estimated_diameter.miles.estimated_diameter_max</th>\n",
       "      <th>estimated_diameter.feet.estimated_diameter_min</th>\n",
       "      <th>estimated_diameter.feet.estimated_diameter_max</th>\n",
       "      <th>sentry_data</th>\n",
       "    </tr>\n",
       "  </thead>\n",
       "  <tbody>\n",
       "    <tr>\n",
       "      <th>0</th>\n",
       "      <td>2434786</td>\n",
       "      <td>2434786</td>\n",
       "      <td>434786 (2006 PW)</td>\n",
       "      <td>https://ssd.jpl.nasa.gov/tools/sbdb_lookup.htm...</td>\n",
       "      <td>18.16</td>\n",
       "      <td>False</td>\n",
       "      <td>False</td>\n",
       "      <td>2024-08-20</td>\n",
       "      <td>http://api.nasa.gov/neo/rest/v1/neo/2434786?ap...</td>\n",
       "      <td>0.620233</td>\n",
       "      <td>1.386883</td>\n",
       "      <td>620.233153</td>\n",
       "      <td>1386.883492</td>\n",
       "      <td>0.385395</td>\n",
       "      <td>0.861769</td>\n",
       "      <td>2034.885738</td>\n",
       "      <td>4550.142836</td>\n",
       "      <td>NaN</td>\n",
       "    </tr>\n",
       "    <tr>\n",
       "      <th>1</th>\n",
       "      <td>3756789</td>\n",
       "      <td>3756789</td>\n",
       "      <td>(2016 PO)</td>\n",
       "      <td>https://ssd.jpl.nasa.gov/tools/sbdb_lookup.htm...</td>\n",
       "      <td>25.10</td>\n",
       "      <td>False</td>\n",
       "      <td>False</td>\n",
       "      <td>2024-08-20</td>\n",
       "      <td>http://api.nasa.gov/neo/rest/v1/neo/3756789?ap...</td>\n",
       "      <td>0.025384</td>\n",
       "      <td>0.056760</td>\n",
       "      <td>25.383703</td>\n",
       "      <td>56.759685</td>\n",
       "      <td>0.015773</td>\n",
       "      <td>0.035269</td>\n",
       "      <td>83.279868</td>\n",
       "      <td>186.219446</td>\n",
       "      <td>NaN</td>\n",
       "    </tr>\n",
       "    <tr>\n",
       "      <th>2</th>\n",
       "      <td>3781330</td>\n",
       "      <td>3781330</td>\n",
       "      <td>(2017 QX35)</td>\n",
       "      <td>https://ssd.jpl.nasa.gov/tools/sbdb_lookup.htm...</td>\n",
       "      <td>22.24</td>\n",
       "      <td>False</td>\n",
       "      <td>False</td>\n",
       "      <td>2024-08-20</td>\n",
       "      <td>http://api.nasa.gov/neo/rest/v1/neo/3781330?ap...</td>\n",
       "      <td>0.094745</td>\n",
       "      <td>0.211856</td>\n",
       "      <td>94.744711</td>\n",
       "      <td>211.855615</td>\n",
       "      <td>0.058872</td>\n",
       "      <td>0.131641</td>\n",
       "      <td>310.842239</td>\n",
       "      <td>695.064376</td>\n",
       "      <td>NaN</td>\n",
       "    </tr>\n",
       "    <tr>\n",
       "      <th>3</th>\n",
       "      <td>54203000</td>\n",
       "      <td>54203000</td>\n",
       "      <td>(2018 UY37)</td>\n",
       "      <td>https://ssd.jpl.nasa.gov/tools/sbdb_lookup.htm...</td>\n",
       "      <td>22.53</td>\n",
       "      <td>False</td>\n",
       "      <td>False</td>\n",
       "      <td>2024-08-20</td>\n",
       "      <td>http://api.nasa.gov/neo/rest/v1/neo/54203000?a...</td>\n",
       "      <td>0.082900</td>\n",
       "      <td>0.185370</td>\n",
       "      <td>82.900085</td>\n",
       "      <td>185.370226</td>\n",
       "      <td>0.051512</td>\n",
       "      <td>0.115184</td>\n",
       "      <td>271.981915</td>\n",
       "      <td>608.170051</td>\n",
       "      <td>NaN</td>\n",
       "    </tr>\n",
       "    <tr>\n",
       "      <th>4</th>\n",
       "      <td>54317182</td>\n",
       "      <td>54317182</td>\n",
       "      <td>(2022 UG2)</td>\n",
       "      <td>https://ssd.jpl.nasa.gov/tools/sbdb_lookup.htm...</td>\n",
       "      <td>27.11</td>\n",
       "      <td>False</td>\n",
       "      <td>False</td>\n",
       "      <td>2024-08-20</td>\n",
       "      <td>http://api.nasa.gov/neo/rest/v1/neo/54317182?a...</td>\n",
       "      <td>0.010059</td>\n",
       "      <td>0.022493</td>\n",
       "      <td>10.059004</td>\n",
       "      <td>22.492617</td>\n",
       "      <td>0.006250</td>\n",
       "      <td>0.013976</td>\n",
       "      <td>33.001982</td>\n",
       "      <td>73.794676</td>\n",
       "      <td>NaN</td>\n",
       "    </tr>\n",
       "  </tbody>\n",
       "</table>\n",
       "</div>"
      ],
      "text/plain": [
       "         id neo_reference_id              name  \\\n",
       "0   2434786          2434786  434786 (2006 PW)   \n",
       "1   3756789          3756789         (2016 PO)   \n",
       "2   3781330          3781330       (2017 QX35)   \n",
       "3  54203000         54203000       (2018 UY37)   \n",
       "4  54317182         54317182        (2022 UG2)   \n",
       "\n",
       "                                        nasa_jpl_url  absolute_magnitude_h  \\\n",
       "0  https://ssd.jpl.nasa.gov/tools/sbdb_lookup.htm...                 18.16   \n",
       "1  https://ssd.jpl.nasa.gov/tools/sbdb_lookup.htm...                 25.10   \n",
       "2  https://ssd.jpl.nasa.gov/tools/sbdb_lookup.htm...                 22.24   \n",
       "3  https://ssd.jpl.nasa.gov/tools/sbdb_lookup.htm...                 22.53   \n",
       "4  https://ssd.jpl.nasa.gov/tools/sbdb_lookup.htm...                 27.11   \n",
       "\n",
       "   is_potentially_hazardous_asteroid  is_sentry_object close_approach_date  \\\n",
       "0                              False             False          2024-08-20   \n",
       "1                              False             False          2024-08-20   \n",
       "2                              False             False          2024-08-20   \n",
       "3                              False             False          2024-08-20   \n",
       "4                              False             False          2024-08-20   \n",
       "\n",
       "                                          links.self  \\\n",
       "0  http://api.nasa.gov/neo/rest/v1/neo/2434786?ap...   \n",
       "1  http://api.nasa.gov/neo/rest/v1/neo/3756789?ap...   \n",
       "2  http://api.nasa.gov/neo/rest/v1/neo/3781330?ap...   \n",
       "3  http://api.nasa.gov/neo/rest/v1/neo/54203000?a...   \n",
       "4  http://api.nasa.gov/neo/rest/v1/neo/54317182?a...   \n",
       "\n",
       "   estimated_diameter.kilometers.estimated_diameter_min  \\\n",
       "0                                           0.620233      \n",
       "1                                           0.025384      \n",
       "2                                           0.094745      \n",
       "3                                           0.082900      \n",
       "4                                           0.010059      \n",
       "\n",
       "   estimated_diameter.kilometers.estimated_diameter_max  \\\n",
       "0                                           1.386883      \n",
       "1                                           0.056760      \n",
       "2                                           0.211856      \n",
       "3                                           0.185370      \n",
       "4                                           0.022493      \n",
       "\n",
       "   estimated_diameter.meters.estimated_diameter_min  \\\n",
       "0                                        620.233153   \n",
       "1                                         25.383703   \n",
       "2                                         94.744711   \n",
       "3                                         82.900085   \n",
       "4                                         10.059004   \n",
       "\n",
       "   estimated_diameter.meters.estimated_diameter_max  \\\n",
       "0                                       1386.883492   \n",
       "1                                         56.759685   \n",
       "2                                        211.855615   \n",
       "3                                        185.370226   \n",
       "4                                         22.492617   \n",
       "\n",
       "   estimated_diameter.miles.estimated_diameter_min  \\\n",
       "0                                         0.385395   \n",
       "1                                         0.015773   \n",
       "2                                         0.058872   \n",
       "3                                         0.051512   \n",
       "4                                         0.006250   \n",
       "\n",
       "   estimated_diameter.miles.estimated_diameter_max  \\\n",
       "0                                         0.861769   \n",
       "1                                         0.035269   \n",
       "2                                         0.131641   \n",
       "3                                         0.115184   \n",
       "4                                         0.013976   \n",
       "\n",
       "   estimated_diameter.feet.estimated_diameter_min  \\\n",
       "0                                     2034.885738   \n",
       "1                                       83.279868   \n",
       "2                                      310.842239   \n",
       "3                                      271.981915   \n",
       "4                                       33.001982   \n",
       "\n",
       "   estimated_diameter.feet.estimated_diameter_max sentry_data  \n",
       "0                                     4550.142836         NaN  \n",
       "1                                      186.219446         NaN  \n",
       "2                                      695.064376         NaN  \n",
       "3                                      608.170051         NaN  \n",
       "4                                       73.794676         NaN  "
      ]
     },
     "execution_count": 5,
     "metadata": {},
     "output_type": "execute_result"
    }
   ],
   "source": [
    "df = create_df(response)\n",
    "df.head()"
   ]
  },
  {
   "cell_type": "code",
   "execution_count": 6,
   "id": "0ccebdf2-edab-4af8-a009-827f193bcd0d",
   "metadata": {},
   "outputs": [],
   "source": [
    "df = df.drop(['links.self', 'sentry_data'], axis=1)"
   ]
  },
  {
   "cell_type": "code",
   "execution_count": 7,
   "id": "d065697d-87bf-45b5-9538-ea7bfa7ce747",
   "metadata": {},
   "outputs": [
    {
     "data": {
      "text/plain": [
       "False"
      ]
     },
     "execution_count": 7,
     "metadata": {},
     "output_type": "execute_result"
    }
   ],
   "source": [
    "df.isnull().values.any()"
   ]
  },
  {
   "cell_type": "code",
   "execution_count": 8,
   "id": "70a64c39-791d-4199-9cc7-ec829bf1af7e",
   "metadata": {},
   "outputs": [],
   "source": [
    "def connect_to_elastic():\n",
    "    elasticsearch_endpoint = getpass(\"Host Address: \")\n",
    "    elasticsearch_api_key = getpass(\"Elastic API Key: \")\n",
    "    return Elasticsearch(hosts=elasticsearch_endpoint, api_key=elasticsearch_api_key)"
   ]
  },
  {
   "cell_type": "code",
   "execution_count": 9,
   "id": "f3ccc1c1-1503-4f74-8946-5ed629bac93f",
   "metadata": {},
   "outputs": [
    {
     "name": "stdin",
     "output_type": "stream",
     "text": [
      "Host Address:  ········\n",
      "Elastic API Key:  ········\n"
     ]
    }
   ],
   "source": [
    "es = connect_to_elastic()"
   ]
  },
  {
   "cell_type": "code",
   "execution_count": 10,
   "id": "19360ea3-dc73-47a9-ba9b-e5cbb75f0bb1",
   "metadata": {},
   "outputs": [
    {
     "data": {
      "text/plain": [
       "ObjectApiResponse({'acknowledged': True, 'shards_acknowledged': True, 'index': 'data_loading_talk_nyc'})"
      ]
     },
     "execution_count": 10,
     "metadata": {},
     "output_type": "execute_result"
    }
   ],
   "source": [
    "index_name = \"data_loading_talk_nyc\"\n",
    "es.indices.create(index=index_name)"
   ]
  },
  {
   "cell_type": "code",
   "execution_count": 11,
   "id": "f937a22a-3369-42c7-9250-443b11a5e915",
   "metadata": {},
   "outputs": [],
   "source": [
    "def doc_generator(df, index_name):\n",
    "    for index, document in df.iterrows():\n",
    "        yield {\n",
    "            \"_index\": index_name,\n",
    "            \"_id\": f\"{document['id']}\",\n",
    "            \"_source\": document.to_dict(),\n",
    "        }"
   ]
  },
  {
   "cell_type": "code",
   "execution_count": 12,
   "id": "3739db51-b7b6-46ce-a475-63f5f8d87965",
   "metadata": {},
   "outputs": [
    {
     "data": {
      "text/plain": [
       "(114, [])"
      ]
     },
     "execution_count": 12,
     "metadata": {},
     "output_type": "execute_result"
    }
   ],
   "source": [
    "helpers.bulk(es, doc_generator(df, index_name))"
   ]
  },
  {
   "cell_type": "code",
   "execution_count": 13,
   "id": "605cf6f9-9516-4599-a4ba-4c506e86b170",
   "metadata": {},
   "outputs": [],
   "source": [
    "for success, info in helpers.parallel_bulk(es, doc_generator(df, 'parallel_bulk_nyc'), thread_count=4):\n",
    "    if not success:\n",
    "        print('A document failed:', info)"
   ]
  },
  {
   "cell_type": "code",
   "execution_count": 14,
   "id": "681cac82-b04f-4773-914f-e350eb8d8eef",
   "metadata": {},
   "outputs": [],
   "source": [
    "def updated_last(es, index_name):\n",
    "    query = {\n",
    "        \"size\": 0,\n",
    "        \"aggs\": {\"last_date\": {\"max\": {\"field\": \"close_approach_date\"}}},\n",
    "    }\n",
    "    response = es.search(index=index_name, body=query)\n",
    "    last_updated_date_string = response[\"aggregations\"][\"last_date\"][\"value_as_string\"]\n",
    "    datetime_obj = datetime.strptime(last_updated_date_string, \"%Y-%m-%dT%H:%M:%S.%fZ\")\n",
    "    return datetime_obj.strftime(\"%Y-%m-%d\")"
   ]
  },
  {
   "cell_type": "code",
   "execution_count": 15,
   "id": "0f848371-cdbe-41e6-9449-42d64421465b",
   "metadata": {},
   "outputs": [
    {
     "name": "stdout",
     "output_type": "stream",
     "text": [
      "2024-08-27\n"
     ]
    }
   ],
   "source": [
    "last_update_date = updated_last(es, index_name)\n",
    "print(last_update_date)"
   ]
  },
  {
   "cell_type": "code",
   "execution_count": 16,
   "id": "9b98b7f2-b1fc-4a77-8558-28ef773b5fd3",
   "metadata": {},
   "outputs": [],
   "source": [
    "def update_new_data(df, es, last_update_date, index_name):\n",
    "    if isinstance(last_update_date, str):\n",
    "        last_update_date = datetime.strptime(last_update_date, \"%Y-%m-%d\")\n",
    "\n",
    "    last_update_date = pd.Timestamp(last_update_date).normalize()\n",
    "\n",
    "    if not df.empty and \"close_approach_date\" in df.columns:\n",
    "        df[\"close_approach_date\"] = pd.to_datetime(df[\"close_approach_date\"])\n",
    "\n",
    "    today = pd.Timestamp(datetime.now().date()).normalize()\n",
    "\n",
    "    if df is not None and not df.empty:\n",
    "        update_range = df.loc[\n",
    "            (df[\"close_approach_date\"] > last_update_date)\n",
    "            & (df[\"close_approach_date\"] < today)\n",
    "        ]\n",
    "        if not update_range.empty:\n",
    "            helpers.bulk(es, doc_generator(update_range, index_name))\n",
    "        else:\n",
    "            print(\"No new data to update.\")\n",
    "    else:\n",
    "        print(\"The DataFrame is None.\")"
   ]
  },
  {
   "cell_type": "code",
   "execution_count": 17,
   "id": "a18fab13-2b60-4bf0-800b-1a136158a064",
   "metadata": {},
   "outputs": [
    {
     "name": "stdout",
     "output_type": "stream",
     "text": [
      "No new data to update.\n",
      "2024-08-27\n"
     ]
    }
   ],
   "source": [
    "try:\n",
    "    if df is None:\n",
    "        raise ValueError(\"DataFrame is None. There may be a problem.\")\n",
    "    update_new_data(df, es, last_update_date, index_name)\n",
    "    print(updated_last(es, index_name))\n",
    "except Exception as e:\n",
    "    print(f\"An error occurred: {e}\")"
   ]
  }
 ],
 "metadata": {
  "kernelspec": {
   "display_name": "Python 3 (ipykernel)",
   "language": "python",
   "name": "python3"
  },
  "language_info": {
   "codemirror_mode": {
    "name": "ipython",
    "version": 3
   },
   "file_extension": ".py",
   "mimetype": "text/x-python",
   "name": "python",
   "nbconvert_exporter": "python",
   "pygments_lexer": "ipython3",
   "version": "3.12.1"
  }
 },
 "nbformat": 4,
 "nbformat_minor": 5
}
